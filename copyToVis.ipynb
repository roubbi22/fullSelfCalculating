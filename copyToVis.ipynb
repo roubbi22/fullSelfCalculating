{
 "cells": [
  {
   "cell_type": "code",
   "execution_count": 46,
   "metadata": {},
   "outputs": [],
   "source": [
    "\n",
    "# import openpyxl module\n",
    "import openpyxl\n",
    "from openpyxl.utils.dataframe import dataframe_to_rows\n",
    "import pandas as pd"
   ]
  },
  {
   "cell_type": "code",
   "execution_count": 47,
   "metadata": {},
   "outputs": [],
   "source": [
    "def insert_to_sheet(wb, sheet, df, start_row=1, start_col=1):\n",
    "    M_elRows = list(dataframe_to_rows(df, index=False, header=True))\n",
    "    for row_index, row_data in enumerate(M_elRows, start=start_row):\n",
    "        for col_index, col_data in enumerate(row_data, start=1):\n",
    "            # convert value to number if possible\n",
    "            try:\n",
    "                # replace \",\" with \".\" and convert to float\n",
    "                col_data = col_data.replace(\",\", \".\")\n",
    "                col_data = float(col_data)\n",
    "            except ValueError:\n",
    "                pass\n",
    "            sheet.cell(row=row_index, column=col_index, value=col_data)"
   ]
  },
  {
   "cell_type": "code",
   "execution_count": 48,
   "metadata": {},
   "outputs": [],
   "source": [
    "# open the file\n",
    "wb=openpyxl.load_workbook('./visTest/5/Visualisation of calc results.xlsx')\n",
    "\n",
    "# get the sheet\n",
    "sheet=wb['M_el(φ,I)']"
   ]
  },
  {
   "cell_type": "code",
   "execution_count": 49,
   "metadata": {},
   "outputs": [],
   "source": [
    "# get the data from M_el.csv\n",
    "\n",
    "M_el=pd.read_csv('./visTest/5/M_el.csv',sep=';')\n",
    "F_ump_amp=pd.read_csv('./visTest/5/F_ump_amp.csv',sep=';')\n",
    "F_ump_phase=pd.read_csv('./visTest/5/F_ump_phase.csv',sep=';')\n",
    "Psi_a=pd.read_csv('./visTest/5/Psi_a.csv',sep=';')\n",
    "k_e_a=pd.read_csv('./visTest/5/k_e_a.csv',sep=';')\n",
    "k_e_LL=pd.read_csv('./visTest/5/k_e_LL.csv',sep=';')\n"
   ]
  },
  {
   "cell_type": "code",
   "execution_count": 50,
   "metadata": {},
   "outputs": [],
   "source": [
    "insert_to_sheet(wb, wb['M_el(φ,I)'], M_el, start_row=5, start_col=1)\n",
    "insert_to_sheet(wb, wb['F_ump_amp(φ,I)'], F_ump_amp, start_row=5, start_col=1)\n",
    "insert_to_sheet(wb, wb['F_ump_phase(φ,I)'], F_ump_phase, start_row=1, start_col=1)\n",
    "insert_to_sheet(wb, wb['Ψ_a(φ,I)'], Psi_a, start_row=1, start_col=1)\n",
    "insert_to_sheet(wb, wb['k_e_a(φ,I)'], k_e_a, start_row=8, start_col=7)\n",
    "insert_to_sheet(wb, wb['k_e_LL(φ,I)'], k_e_LL, start_row=8, start_col=9)\n"
   ]
  },
  {
   "cell_type": "code",
   "execution_count": 51,
   "metadata": {},
   "outputs": [],
   "source": [
    "# save as new file\n",
    "wb.save('./visTest/5/Visualisation of calc results2.xlsx')"
   ]
  }
 ],
 "metadata": {
  "kernelspec": {
   "display_name": "Python 3",
   "language": "python",
   "name": "python3"
  },
  "language_info": {
   "codemirror_mode": {
    "name": "ipython",
    "version": 3
   },
   "file_extension": ".py",
   "mimetype": "text/x-python",
   "name": "python",
   "nbconvert_exporter": "python",
   "pygments_lexer": "ipython3",
   "version": "3.12.1"
  }
 },
 "nbformat": 4,
 "nbformat_minor": 2
}
