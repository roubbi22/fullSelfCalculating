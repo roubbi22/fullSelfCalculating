{
 "cells": [
  {
   "cell_type": "code",
   "execution_count": 71,
   "metadata": {},
   "outputs": [],
   "source": [
    "import openpyxl \n",
    "from openpyxl.utils.dataframe import dataframe_to_rows\n",
    "import pandas as pd"
   ]
  },
  {
   "cell_type": "code",
   "execution_count": 72,
   "metadata": {},
   "outputs": [],
   "source": [
    "# load data from calcOrder.json with title for the only column as 'calcOrder'\n",
    "df = pd.read_json('calcOrder.json')\n",
    "df.columns = ['calcOrder']"
   ]
  },
  {
   "cell_type": "code",
   "execution_count": 73,
   "metadata": {},
   "outputs": [
    {
     "data": {
      "text/plain": [
       "[['./iterations/yokeBaseWidth/5', 'yokeBaseWidth', '5'],\n",
       " ['./iterations/yokeBaseWidth/7', 'yokeBaseWidth', '7'],\n",
       " ['./iterations/yokeBaseWidth/9', 'yokeBaseWidth', '9'],\n",
       " ['./iterations/yokeBaseWidth/11', 'yokeBaseWidth', '11'],\n",
       " ['./iterations/youkeUpperOuterHeight/4', 'youkeUpperOuterHeight', '4'],\n",
       " ['./iterations/youkeUpperOuterHeight/7', 'youkeUpperOuterHeight', '7'],\n",
       " ['./iterations/youkeUpperOuterHeight/10', 'youkeUpperOuterHeight', '10'],\n",
       " ['./iterations/rotorTurns/100', 'rotorTurns', '100'],\n",
       " ['./iterations/rotorTurns/150', 'rotorTurns', '150'],\n",
       " ['./iterations/rotorTurns/200', 'rotorTurns', '200'],\n",
       " ['./iterations/rotorCurrent/1', 'rotorCurrent', '1'],\n",
       " ['./iterations/rotorCurrent/3', 'rotorCurrent', '3'],\n",
       " ['./iterations/rotorCurrent/5', 'rotorCurrent', '5'],\n",
       " ['./iterations/rotorCurrent/7', 'rotorCurrent', '7'],\n",
       " ['./iterations/rotorCurrent/9', 'rotorCurrent', '9']]"
      ]
     },
     "execution_count": 73,
     "metadata": {},
     "output_type": "execute_result"
    }
   ],
   "source": [
    "sources = []\n",
    "\n",
    "# itrate over the dataframe and log the data\n",
    "for index, row in df.iterrows():\n",
    "    # split the string into a list\n",
    "    calcOrder = row['calcOrder'].split('/')\n",
    "    sources.append([ row['calcOrder'], calcOrder[2], calcOrder[3]])\n",
    "\n",
    "sources\n",
    "\n"
   ]
  },
  {
   "cell_type": "code",
   "execution_count": 74,
   "metadata": {},
   "outputs": [
    {
     "name": "stderr",
     "output_type": "stream",
     "text": [
      "C:\\Users\\Robin\\AppData\\Local\\Temp\\ipykernel_58228\\1341258533.py:8: FutureWarning: errors='ignore' is deprecated and will raise in a future version. Use to_numeric without passing `errors` and catch exceptions explicitly instead\n",
      "  M_el = M_el.apply(pd.to_numeric, errors='ignore')\n",
      "C:\\Users\\Robin\\AppData\\Local\\Temp\\ipykernel_58228\\1341258533.py:8: FutureWarning: errors='ignore' is deprecated and will raise in a future version. Use to_numeric without passing `errors` and catch exceptions explicitly instead\n",
      "  M_el = M_el.apply(pd.to_numeric, errors='ignore')\n",
      "C:\\Users\\Robin\\AppData\\Local\\Temp\\ipykernel_58228\\1341258533.py:8: FutureWarning: errors='ignore' is deprecated and will raise in a future version. Use to_numeric without passing `errors` and catch exceptions explicitly instead\n",
      "  M_el = M_el.apply(pd.to_numeric, errors='ignore')\n",
      "C:\\Users\\Robin\\AppData\\Local\\Temp\\ipykernel_58228\\1341258533.py:8: FutureWarning: errors='ignore' is deprecated and will raise in a future version. Use to_numeric without passing `errors` and catch exceptions explicitly instead\n",
      "  M_el = M_el.apply(pd.to_numeric, errors='ignore')\n",
      "C:\\Users\\Robin\\AppData\\Local\\Temp\\ipykernel_58228\\1341258533.py:8: FutureWarning: errors='ignore' is deprecated and will raise in a future version. Use to_numeric without passing `errors` and catch exceptions explicitly instead\n",
      "  M_el = M_el.apply(pd.to_numeric, errors='ignore')\n",
      "C:\\Users\\Robin\\AppData\\Local\\Temp\\ipykernel_58228\\1341258533.py:8: FutureWarning: errors='ignore' is deprecated and will raise in a future version. Use to_numeric without passing `errors` and catch exceptions explicitly instead\n",
      "  M_el = M_el.apply(pd.to_numeric, errors='ignore')\n",
      "C:\\Users\\Robin\\AppData\\Local\\Temp\\ipykernel_58228\\1341258533.py:8: FutureWarning: errors='ignore' is deprecated and will raise in a future version. Use to_numeric without passing `errors` and catch exceptions explicitly instead\n",
      "  M_el = M_el.apply(pd.to_numeric, errors='ignore')\n",
      "C:\\Users\\Robin\\AppData\\Local\\Temp\\ipykernel_58228\\1341258533.py:8: FutureWarning: errors='ignore' is deprecated and will raise in a future version. Use to_numeric without passing `errors` and catch exceptions explicitly instead\n",
      "  M_el = M_el.apply(pd.to_numeric, errors='ignore')\n",
      "C:\\Users\\Robin\\AppData\\Local\\Temp\\ipykernel_58228\\1341258533.py:8: FutureWarning: errors='ignore' is deprecated and will raise in a future version. Use to_numeric without passing `errors` and catch exceptions explicitly instead\n",
      "  M_el = M_el.apply(pd.to_numeric, errors='ignore')\n",
      "C:\\Users\\Robin\\AppData\\Local\\Temp\\ipykernel_58228\\1341258533.py:8: FutureWarning: errors='ignore' is deprecated and will raise in a future version. Use to_numeric without passing `errors` and catch exceptions explicitly instead\n",
      "  M_el = M_el.apply(pd.to_numeric, errors='ignore')\n",
      "C:\\Users\\Robin\\AppData\\Local\\Temp\\ipykernel_58228\\1341258533.py:8: FutureWarning: errors='ignore' is deprecated and will raise in a future version. Use to_numeric without passing `errors` and catch exceptions explicitly instead\n",
      "  M_el = M_el.apply(pd.to_numeric, errors='ignore')\n",
      "C:\\Users\\Robin\\AppData\\Local\\Temp\\ipykernel_58228\\1341258533.py:8: FutureWarning: errors='ignore' is deprecated and will raise in a future version. Use to_numeric without passing `errors` and catch exceptions explicitly instead\n",
      "  M_el = M_el.apply(pd.to_numeric, errors='ignore')\n",
      "C:\\Users\\Robin\\AppData\\Local\\Temp\\ipykernel_58228\\1341258533.py:8: FutureWarning: errors='ignore' is deprecated and will raise in a future version. Use to_numeric without passing `errors` and catch exceptions explicitly instead\n",
      "  M_el = M_el.apply(pd.to_numeric, errors='ignore')\n",
      "C:\\Users\\Robin\\AppData\\Local\\Temp\\ipykernel_58228\\1341258533.py:8: FutureWarning: errors='ignore' is deprecated and will raise in a future version. Use to_numeric without passing `errors` and catch exceptions explicitly instead\n",
      "  M_el = M_el.apply(pd.to_numeric, errors='ignore')\n",
      "C:\\Users\\Robin\\AppData\\Local\\Temp\\ipykernel_58228\\1341258533.py:8: FutureWarning: errors='ignore' is deprecated and will raise in a future version. Use to_numeric without passing `errors` and catch exceptions explicitly instead\n",
      "  M_el = M_el.apply(pd.to_numeric, errors='ignore')\n"
     ]
    }
   ],
   "source": [
    "M_el_combined = pd.DataFrame()\n",
    "\n",
    "for index, source in enumerate(sources):\n",
    "    M_el = pd.read_csv(source[0] + '/M_el.csv', sep=';')\n",
    "    # replace all commas with dots\n",
    "    M_el = M_el.replace(',','.', regex=True)\n",
    "    # convert all entries to float values if possible\n",
    "    M_el = M_el.apply(pd.to_numeric, errors='ignore')\n",
    "    if(index == 0):\n",
    "        # append the first column to the dataframe\n",
    "        M_el_combined = M_el.iloc[:, [0]]\n",
    "    M_el = M_el.iloc[:, [-1]]\n",
    "    # append the column to the dataframe and name it after the source\n",
    "    M_el.columns = [source[1] + '_' + source[2]]\n",
    "    M_el_combined = pd.concat([M_el_combined, M_el], axis=1)"
   ]
  },
  {
   "cell_type": "code",
   "execution_count": 75,
   "metadata": {},
   "outputs": [],
   "source": [
    "# save the dataframe to an excel file\n",
    "M_el_combined.to_excel('./iterations/M_el_combined.xlsx', index=False)"
   ]
  }
 ],
 "metadata": {
  "kernelspec": {
   "display_name": "copy_to_vis",
   "language": "python",
   "name": "python3"
  },
  "language_info": {
   "codemirror_mode": {
    "name": "ipython",
    "version": 3
   },
   "file_extension": ".py",
   "mimetype": "text/x-python",
   "name": "python",
   "nbconvert_exporter": "python",
   "pygments_lexer": "ipython3",
   "version": "3.12.1"
  }
 },
 "nbformat": 4,
 "nbformat_minor": 2
}
